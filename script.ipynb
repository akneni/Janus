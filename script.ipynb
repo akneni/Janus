{
 "cells": [
  {
   "cell_type": "code",
   "execution_count": 3,
   "id": "dcd0f558",
   "metadata": {},
   "outputs": [
    {
     "data": {
      "text/plain": [
       "'---------------- MODULE ReplicationFactorSafetyProof ----------------\\nEXTENDS Janus, TLAPS\\n\\n(***************************************************************************)\\n(* This module contains a formal proof of the ReplicationFactorSafety      *)\\n(* invariant from the Janus specification.                                 *)\\n(***************************************************************************)\\n\\nTHEOREM Spec_Implies_ReplicationFactorSafety == Spec => []ReplicationFactorSafety\\nPROOF\\n  <1> SUFFICES ASSUME ReplicationFactorSafety, [Next]_Vars\\n               PROVE  ReplicationFactorSafety\\'\\n    BY PTL, <1>1, <1>2\\n\\n  <1>1. Init => ReplicationFactorSafety\\n    PROOF\\n      ASSUME Init\\n      PROVE  ReplicationFactorSafety\\n\\n      TAKE n, m \\\\in NodeSet\\n      ASSUME Term[n] = Term[m]\\n      HAVE Term[n] = 0 /\\\\ Term[m] = 0\\n        BY ASSUME Init DEF Init\\n      HAVE ReplicationFactor[n] = 2 /\\\\ ReplicationFactor[m] = 2\\n        BY ASSUME Init DEF Init\\n    QED\\n\\n  <1>2. ReplicationFactorSafety /\\\\ [Next]_Vars => ReplicationFactorSafety\\'\\n    PROOF\\n      ASSUME Inv == ReplicationFactorSafety,\\n             Action == [Next]_Vars\\n      PROVE  Goal == ReplicationFactorSafety\\'\\n\\n      DEFINE AllActions(n) ==\\n          \\\\/ FollowerSendInitWorkload(n)\\n          \\\\/ FollowerAckInitWorkload(n)\\n          \\\\/ CandidateProcessAckInitWorkload(n)\\n          \\\\/ LeaderProcessAckAE_RF1(n)\\n          \\\\/ LeaderProcessAckAE_RF2(n)\\n          \\\\/ LeaderSendSwitchToRF1(n)\\n          \\\\/ LeaderProcessSwitchToRF1(n)\\n          \\\\/ FollowerSendSwitchToRF1Leader(n)\\n          \\\\/ CandidateProcessSwitchToRF1Leader(n)\\n          \\\\/ FollowerAckSwitchToRF2_P1(n)\\n          \\\\/ LeaderProcessAckSwitchToRF2_P1(n)\\n          \\\\/ (\\\\E d \\\\in {0,1}: LeaderSendAE_RF1(n,d))\\n          \\\\/ (\\\\E d \\\\in {0,1}: LeaderSendAE_RF2(n,d))\\n          \\\\/ FollowerAckAE_RF2(n)\\n          \\\\/ (\\\\E d \\\\in {0,1}: LeaderSendSwitchToRF2_P1(n,d))\\n\\n      TAKE n, m \\\\in NodeSet\\n      ASSUME Term\\'[n] = Term\\'[m]\\n\\n      CASEUNCHANGED <<Term, ReplicationFactor>>\\n        BY DEF ReplicationFactorSafety\\n\\n      CASE \\\\E act \\\\in { \"ElectorAckAE_RF1\",\\n                        \"ElectorAckSwitchToRF1\",\\n                        \"ElectorAckSwitchToRF1Leader\",\\n                        \"ElectorProcessAE_RF2\",\\n                        \"ElectorAckSwitchToRF2_P2\" } :\\n        \\\\E e \\\\in ElectorNodes :\\n          \\\\/ (act = \"ElectorAckAE_RF1\" /\\\\ ElectorAckAE_RF1(e))\\n          \\\\/ (act = \"ElectorAckSwitchToRF1\" /\\\\ ElectorAckSwitchToRF1(e))\\n          \\\\/ (act = \"ElectorAckSwitchToRF1Leader\" /\\\\ ElectorAckSwitchToRF1Leader(e))\\n          \\\\/ (act = \"ElectorProcessAE_RF2\" /\\\\ ElectorProcessAE_RF2(e))\\n          \\\\/ (act = \"ElectorAckSwitchToRF2_P2\" /\\\\ ElectorAckSwitchToRF2_P2(e))\\n        BY Inv, Action\\n\\n      CASE \\\\E d_node \\\\in DataNodes : AllActions(d_node)\\n        BY Inv, Action\\n\\n      CASE DropMsg \\\\/ DupMsg \\\\/ HardReset \\\\/ HardResetWipeMsgs\\n        BY Inv, Action\\n    QED\\n\\n  QED\\n=============================================================================\\n'"
      ]
     },
     "execution_count": 3,
     "metadata": {},
     "output_type": "execute_result"
    }
   ],
   "source": [
    "with open('TLA-plus-spec/ReplicationFactorSafety.tla', 'r', encoding='ascii') as f:\n",
    "\tt = f.read()\n",
    "\n",
    "t"
   ]
  }
 ],
 "metadata": {
  "kernelspec": {
   "display_name": "base",
   "language": "python",
   "name": "python3"
  },
  "language_info": {
   "codemirror_mode": {
    "name": "ipython",
    "version": 3
   },
   "file_extension": ".py",
   "mimetype": "text/x-python",
   "name": "python",
   "nbconvert_exporter": "python",
   "pygments_lexer": "ipython3",
   "version": "3.12.9"
  }
 },
 "nbformat": 4,
 "nbformat_minor": 5
}
